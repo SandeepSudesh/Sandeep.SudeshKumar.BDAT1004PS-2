{
 "cells": [
  {
   "cell_type": "code",
   "execution_count": 1,
   "id": "fdc598c2",
   "metadata": {},
   "outputs": [
    {
     "name": "stdout",
     "output_type": "stream",
     "text": [
      "6\n"
     ]
    }
   ],
   "source": [
    "a=0\n",
    "def b():\n",
    "\tglobal a\n",
    "\ta=c(a)\n",
    "def c(a):\n",
    "    return a+2\n",
    "b()\n",
    "b()\n",
    "b()\n",
    "print(a) "
   ]
  },
  {
   "cell_type": "code",
   "execution_count": null,
   "id": "59b2874c",
   "metadata": {},
   "outputs": [],
   "source": [
    "Explanation: \n",
    "    b() function points to function c(), It returns and assign a = 2\n",
    "    gives the result as 6."
   ]
  },
  {
   "cell_type": "code",
   "execution_count": 4,
   "id": "ad6d01fd",
   "metadata": {},
   "outputs": [
    {
     "name": "stdout",
     "output_type": "stream",
     "text": [
      "1777\n",
      "File count.ipynb not found\n"
     ]
    }
   ],
   "source": [
    "import os.path\n",
    "\n",
    "def file_length(file_name):\n",
    "    if os.path.isfile(file_name):\n",
    "    \n",
    "        file = open(file_name)\n",
    "        contents = file.read()\n",
    "        file.close()\n",
    "        print(len(contents))   \n",
    "    else:\n",
    "        print(\"File \"+ str(file_name) +\" not found\")\n",
    "        \n",
    "file_length(\"countme.ipynb\")\n",
    "file_length(\"count.ipynb\")"
   ]
  },
  {
   "cell_type": "code",
   "execution_count": 5,
   "id": "6ec25395",
   "metadata": {},
   "outputs": [
    {
     "name": "stdout",
     "output_type": "stream",
     "text": [
      "I am Kangaroo located at co-ordinates (0,0)\n",
      "['doll', 'firetruck', 'kitten']\n",
      "I am Kangaroo located at co-ordinates (3,0)\n"
     ]
    }
   ],
   "source": [
    "class Marsupial:\n",
    "\tdef __init__(self):\n",
    "\t\tself.arr=[]\n",
    "\tdef put_in_pouch(self,x):\n",
    "\t\tself.arr.append(x)\n",
    "\tdef pouch_contents(self):\n",
    "\t\tprint(self.arr)\n",
    "\t\t\n",
    "\t\t\n",
    "\n",
    "class Kangaroo(Marsupial):\n",
    "\tdef __init__(self,x_coords,y_coords):\n",
    "\t\tsuper().__init__()\n",
    "\t\tself.x=x_coords\n",
    "\t\tself.y=y_coords\n",
    "\tdef jump(self,dx,dy):\n",
    "\t\tself.x+=dx\n",
    "\t\tself.y+=dy\n",
    "\tdef __str__(self):\n",
    "\t\treturn \"I am Kangaroo located at co-ordinates ({0},{1})\".format(self.x,self.y)\n",
    "\t\t\n",
    "\t\t\n",
    "k=Kangaroo(0,0)\n",
    "print(k)\n",
    "k.put_in_pouch('doll')\n",
    "k.put_in_pouch('firetruck')\n",
    "k.put_in_pouch('kitten')\n",
    "k.pouch_contents()\n",
    "k.jump(1,0)\n",
    "k.jump(1,0)\n",
    "k.jump(1,0)\n",
    "print(k)"
   ]
  },
  {
   "cell_type": "code",
   "execution_count": 15,
   "id": "64477179",
   "metadata": {},
   "outputs": [
    {
     "name": "stdout",
     "output_type": "stream",
     "text": [
      "1\n",
      "10\n",
      "5\n",
      "16\n",
      "8\n",
      "4\n",
      "2\n",
      "1\n"
     ]
    }
   ],
   "source": [
    "def collatz(a):\n",
    "    while a!=1:\n",
    "        print(a,end=\"\\n\")\n",
    "        if a&1:\n",
    "            a=a*3+1\n",
    "        else:\n",
    "            a=a//2\n",
    "    print(a)\n",
    "collatz(1)\n",
    "collatz(10)"
   ]
  },
  {
   "cell_type": "code",
   "execution_count": 7,
   "id": "1e010cab",
   "metadata": {},
   "outputs": [
    {
     "name": "stdout",
     "output_type": "stream",
     "text": [
      "0\n",
      "1\n",
      "11\n",
      "1001\n"
     ]
    }
   ],
   "source": [
    "def binary(a):\n",
    "    if a<2:\n",
    "        print(a)\n",
    "    else:\n",
    "        b='{0:b}'.format(a)\n",
    "        print(b)\n",
    "    \n",
    "binary(0)\n",
    "binary(1)\n",
    "binary(3)\n",
    "binary(9)"
   ]
  },
  {
   "cell_type": "code",
   "execution_count": 14,
   "id": "6d88d721",
   "metadata": {},
   "outputs": [
    {
     "name": "stdout",
     "output_type": "stream",
     "text": [
      "W3C Mission\n",
      "Principles\n"
     ]
    }
   ],
   "source": [
    "from html.parser import HTMLParser\n",
    "\n",
    "test_param = False\n",
    "count = 0\n",
    "\n",
    "def space_generator(count):\n",
    "    space_str = \"\"\n",
    "    for i in range(0, count):\n",
    "        space_str += \"\"\n",
    "    return space_str\n",
    "\n",
    "class HeadingParser(HTMLParser):\n",
    "    def handle_starttag(self, tag, data):\n",
    "        global test_param\n",
    "        if tag in ['h1' , 'h2']:\n",
    "            test_param = True\n",
    "    def handle_data(self, data):\n",
    "        global test_param\n",
    "        global count\n",
    "        if test_param == True:\n",
    "            test_param = False\n",
    "            modified_data = space_generator(count) + data\n",
    "            print(modified_data)\n",
    "            count += 1\n",
    "            \n",
    "infile = open('w3c.html')\n",
    "content = infile.read()\n",
    "infile.close()\n",
    "hp = HeadingParser()\n",
    "hp.feed(content)"
   ]
  },
  {
   "cell_type": "code",
   "execution_count": null,
   "id": "d322d1c7",
   "metadata": {},
   "outputs": [],
   "source": []
  },
  {
   "cell_type": "code",
   "execution_count": 13,
   "id": "2e203d93",
   "metadata": {},
   "outputs": [
    {
     "name": "stdout",
     "output_type": "stream",
     "text": [
      " http://reed.cs.depaul.edu/lperkovic/csc242/test1.html  \n",
      " http://reed.cs.depaul.edu/lperkovic/csc242/test1.html \n",
      "   http://reed.cs.depaul.edu/lperkovic/csc242/test1.html \n",
      " http://reed.cs.depaul.edu/lperkovic/csc242/test1.html \n"
     ]
    }
   ],
   "source": [
    "def webdir(s, num, indent):\n",
    "    if(num > 0):\n",
    "        webdir(s, indent, num//2);\n",
    "        print(\"  \"*indent + \" \" + s + \" \" *num);\n",
    "        webdir(s, indent + num//2, num//2) \n",
    "        \n",
    "webdir(\"http://reed.cs.depaul.edu/lperkovic/csc242/test1.html\", 2, 0)"
   ]
  },
  {
   "cell_type": "code",
   "execution_count": 9,
   "id": "adddd884",
   "metadata": {},
   "outputs": [
    {
     "ename": "SyntaxError",
     "evalue": "unmatched ')' (2054492459.py, line 1)",
     "output_type": "error",
     "traceback": [
      "\u001b[1;36m  Input \u001b[1;32mIn [9]\u001b[1;36m\u001b[0m\n\u001b[1;33m    a) All the temperature data.\u001b[0m\n\u001b[1;37m     ^\u001b[0m\n\u001b[1;31mSyntaxError\u001b[0m\u001b[1;31m:\u001b[0m unmatched ')'\n"
     ]
    }
   ],
   "source": [
    "a) All the temperature data.\n",
    "\n",
    "select temperature from database\n",
    "\n",
    "b) All the cities, but without repetition.\n",
    "\n",
    "select distinct city from database\n",
    "\n",
    "c) All the records for India.\n",
    "\n",
    "select * from database where Country = 'India'\n",
    "\n",
    "d) All the Fall record\n",
    "\n",
    "select  * from database where Season = 'Fall'\n",
    "\n",
    "e) The city, country, and season for which the average rainfall is between 200 and 400 millimeters.\n",
    "\n",
    "select City, Country, Season from database where Rainfall between 200 and 400\n",
    "\n",
    "f) The city and country for which the average Fall temperature is above 20 degrees, in increasing temperature order.\n",
    "\n",
    "Select City, Country from database where temperature > 20 order by temperature\n",
    "\n",
    "g) The total annual rainfall for Cairo.\n",
    "\n",
    "select sum(Rainfall) from database where City = 'Cairo'\n",
    "\n",
    "h) The total rainfall for each season.\n",
    "\n",
    "select Season, sum(Rainfall) from database group by Season"
   ]
  },
  {
   "cell_type": "code",
   "execution_count": 10,
   "id": "b4b2f085",
   "metadata": {},
   "outputs": [
    {
     "name": "stdout",
     "output_type": "stream",
     "text": [
      "['THE', 'QUICK', 'BROWN', 'FOX', 'JUMPS', 'OVER', 'THE', 'LAZY', 'DOG']\n",
      "['the', 'quick', 'brown', 'fox', 'jumps', 'over', 'the', 'lazy', 'dog']\n",
      "[3, 5, 5, 3, 5, 4, 3, 4, 3]\n",
      "[['THE', 'the', 3], ['QUICK', 'quick', 5], ['BROWN', 'brown', 5], ['FOX', 'fox', 3], ['JUMPS', 'jumps', 5], ['OVER', 'over', 4], ['THE', 'the', 3], ['LAZY', 'lazy', 4], ['DOG', 'dog', 3]]\n",
      "['quick', 'brown', 'jumps', 'over', 'lazy']\n"
     ]
    }
   ],
   "source": [
    "words = ['The', 'quick', 'brown', 'fox', 'jumps', 'over','the', 'lazy', 'dog']\n",
    "a=[];b=[];c=[];d=[];e=[]\n",
    "for i in words:\n",
    "    k=[]\n",
    "    a.append(i.upper())\n",
    "    k.append(i.upper())\n",
    "    b.append(i.lower())\n",
    "    k.append(i.lower())\n",
    "    c.append(len(i))\n",
    "    k.append(len(i))\n",
    "    d.append(k)\n",
    "    if len(i)>=4:\n",
    "        e.append(i)\n",
    "print(a)\n",
    "print(b)\n",
    "print(c)\n",
    "print(d)\n",
    "print(e)"
   ]
  },
  {
   "cell_type": "code",
   "execution_count": null,
   "id": "377771b8",
   "metadata": {},
   "outputs": [],
   "source": []
  }
 ],
 "metadata": {
  "kernelspec": {
   "display_name": "Python 3 (ipykernel)",
   "language": "python",
   "name": "python3"
  },
  "language_info": {
   "codemirror_mode": {
    "name": "ipython",
    "version": 3
   },
   "file_extension": ".py",
   "mimetype": "text/x-python",
   "name": "python",
   "nbconvert_exporter": "python",
   "pygments_lexer": "ipython3",
   "version": "3.9.12"
  }
 },
 "nbformat": 4,
 "nbformat_minor": 5
}
